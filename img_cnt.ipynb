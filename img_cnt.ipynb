{
  "nbformat": 4,
  "nbformat_minor": 0,
  "metadata": {
    "colab": {
      "name": "img_cnt.ipynb",
      "provenance": [],
      "collapsed_sections": [],
      "authorship_tag": "ABX9TyOwmgm4RC2R9QrYBeVjjCfS",
      "include_colab_link": true
    },
    "kernelspec": {
      "name": "python3",
      "display_name": "Python 3"
    },
    "language_info": {
      "name": "python"
    }
  },
  "cells": [
    {
      "cell_type": "markdown",
      "metadata": {
        "id": "view-in-github",
        "colab_type": "text"
      },
      "source": [
        "<a href=\"https://colab.research.google.com/github/Jinil-Chandarana/Generic-Scraper/blob/main/img_cnt.ipynb\" target=\"_parent\"><img src=\"https://colab.research.google.com/assets/colab-badge.svg\" alt=\"Open In Colab\"/></a>"
      ]
    },
    {
      "cell_type": "code",
      "execution_count": 3,
      "metadata": {
        "id": "ZAb5YHaWWJXp"
      },
      "outputs": [],
      "source": [
        "import requests\n",
        "from lxml import etree\n",
        "from bs4 import BeautifulSoup\n",
        "import lxml.html"
      ]
    },
    {
      "cell_type": "code",
      "source": [
        "Dict_Headers = ({'User-Agent':\n",
        "      'Mozilla/5.0 (X11; Linux x86_64) AppleWebKit/537.36 \\\n",
        "      (KHTML, like Gecko) Chrome/44.0.2403.157 Safari/537.36',\\\n",
        "      'Accept-Language': 'en-US, en;q=0.5'})\n",
        "url = \"https://www.flipkart.com/clothing-and-accessories/topwear/pr?sid=clo%2Cash&otracker=categorytree&p%5B%5D=facets.ideal_for%255B%255D%3DMen&otracker=nmenu_sub_Men_0_Top%20wear\"\n",
        "webPage = requests.get(url, Dict_Headers)\n",
        "Scraping = BeautifulSoup(webPage.content, \"html.parser\")\n",
        "documentObjectModel = etree.HTML(str(Scraping))\n",
        "imgtags = documentObjectModel.xpath(\"//img\")"
      ],
      "metadata": {
        "id": "b5SXDRN_Wc0U"
      },
      "execution_count": 4,
      "outputs": []
    },
    {
      "cell_type": "code",
      "source": [
        "classset = set()\n",
        "imglist = []\n",
        "for tag in imgtags:\n",
        "  # unzipped = list(zip(*tag.items()))\n",
        "  # print((unzipped[0]))\n",
        "  print((tag.items())[:-1])\n",
        "  imglist.append((tag.items())[:-1])\n",
        "print(imglist)"
      ],
      "metadata": {
        "id": "pBP-jwlMXGa8"
      },
      "execution_count": null,
      "outputs": []
    },
    {
      "cell_type": "code",
      "source": [
        "count = set()\n",
        "for item in imglist:\n",
        "  count.add(imglist.count(item))\n",
        "print(max(count))"
      ],
      "metadata": {
        "colab": {
          "base_uri": "https://localhost:8080/"
        },
        "id": "-xpV-rDXSKBl",
        "outputId": "142dc3cf-c4d4-40a6-fcb7-e1c0a673965a"
      },
      "execution_count": 8,
      "outputs": [
        {
          "output_type": "stream",
          "name": "stdout",
          "text": [
            "40\n"
          ]
        }
      ]
    }
  ]
}