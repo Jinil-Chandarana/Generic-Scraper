{
  "nbformat": 4,
  "nbformat_minor": 0,
  "metadata": {
    "colab": {
      "name": "img_cnt.ipynb",
      "provenance": [],
      "collapsed_sections": [],
      "authorship_tag": "ABX9TyO01CVhQP+PhKNWwqahI0pI",
      "include_colab_link": true
    },
    "kernelspec": {
      "name": "python3",
      "display_name": "Python 3"
    },
    "language_info": {
      "name": "python"
    }
  },
  "cells": [
    {
      "cell_type": "markdown",
      "metadata": {
        "id": "view-in-github",
        "colab_type": "text"
      },
      "source": [
        "<a href=\"https://colab.research.google.com/github/Jinil-Chandarana/Generic-Scraper/blob/main/img_cnt.ipynb\" target=\"_parent\"><img src=\"https://colab.research.google.com/assets/colab-badge.svg\" alt=\"Open In Colab\"/></a>"
      ]
    },
    {
      "cell_type": "code",
      "execution_count": 12,
      "metadata": {
        "id": "ZAb5YHaWWJXp"
      },
      "outputs": [],
      "source": [
        "import requests\n",
        "from lxml import etree\n",
        "from bs4 import BeautifulSoup\n",
        "import lxml.html"
      ]
    },
    {
      "cell_type": "code",
      "source": [
        "Dict_Headers = ({'User-Agent':\n",
        "      'Mozilla/5.0 (X11; Linux x86_64) AppleWebKit/537.36 \\\n",
        "      (KHTML, like Gecko) Chrome/44.0.2403.157 Safari/537.36',\\\n",
        "      'Accept-Language': 'en-US, en;q=0.5'})\n",
        "url = \"https://www.flipkart.com/clothing-and-accessories/topwear/pr?sid=clo%2Cash&otracker=categorytree&p%5B%5D=facets.ideal_for%255B%255D%3DMen&otracker=nmenu_sub_Men_0_Top%20wear\"\n",
        "webPage = requests.get(url, Dict_Headers)\n",
        "Scraping = BeautifulSoup(webPage.content, \"html.parser\")\n",
        "documentObjectModel = etree.HTML(str(Scraping))\n",
        "imgtags = documentObjectModel.xpath(\"//img\")"
      ],
      "metadata": {
        "id": "b5SXDRN_Wc0U"
      },
      "execution_count": 13,
      "outputs": []
    },
    {
      "cell_type": "code",
      "source": [
        "def img_count(imgtags):\n",
        "  classset = set()\n",
        "  imglist = []\n",
        "  for tag in imgtags:\n",
        "    imglist.append((tag.items())[:-1])\n",
        "  count = set()\n",
        "  for item in imglist:\n",
        "    count.add(imglist.count(item))\n",
        "  return max(count)"
      ],
      "metadata": {
        "id": "ACQ4LQfZMD_G"
      },
      "execution_count": 19,
      "outputs": []
    },
    {
      "cell_type": "code",
      "source": [
        "img_count(imgtags)"
      ],
      "metadata": {
        "colab": {
          "base_uri": "https://localhost:8080/"
        },
        "id": "mq7PQc0MMeSL",
        "outputId": "3ff7d88e-9cdf-4f67-b5ee-440cf9ff718d"
      },
      "execution_count": 20,
      "outputs": [
        {
          "output_type": "execute_result",
          "data": {
            "text/plain": [
              "40"
            ]
          },
          "metadata": {},
          "execution_count": 20
        }
      ]
    }
  ]
}