{
  "nbformat": 4,
  "nbformat_minor": 0,
  "metadata": {
    "colab": {
      "name": "test.ipynb",
      "provenance": [],
      "collapsed_sections": [],
      "authorship_tag": "ABX9TyPM+Ppw0a6nlWpsc/8J6FIy",
      "include_colab_link": true
    },
    "kernelspec": {
      "name": "python3",
      "display_name": "Python 3"
    },
    "language_info": {
      "name": "python"
    }
  },
  "cells": [
    {
      "cell_type": "markdown",
      "metadata": {
        "id": "view-in-github",
        "colab_type": "text"
      },
      "source": [
        "<a href=\"https://colab.research.google.com/github/Jinil-Chandarana/Generic-Scraper/blob/main/mark%202.ipynb\" target=\"_parent\"><img src=\"https://colab.research.google.com/assets/colab-badge.svg\" alt=\"Open In Colab\"/></a>"
      ]
    },
    {
      "cell_type": "code",
      "execution_count": 6,
      "metadata": {
        "id": "9IrKuHKn0-jP"
      },
      "outputs": [],
      "source": [
        "import requests\n",
        "from lxml import etree\n",
        "from bs4 import BeautifulSoup\n",
        "import lxml.html"
      ]
    },
    {
      "cell_type": "code",
      "source": [
        "Dict_Headers = ({'User-Agent':\n",
        "      'Mozilla/5.0 (X11; Linux x86_64) AppleWebKit/537.36 \\\n",
        "      (KHTML, like Gecko) Chrome/44.0.2403.157 Safari/537.36',\\\n",
        "      'Accept-Language': 'en-US, en;q=0.5'})\n",
        "url = \"https://www.flipkart.com/wearable-smart-devices/smart-watches/~cs-5ciwhiz2cg/pr?sid=ajy%2Cbuh&collection-tab-name=Samsung+Watch+4&bu=SHOPSY&ctx=eyJjYXJkQ29udGV4dCI6eyJhdHRyaWJ1dGVzIjp7InZhbHVlQ2FsbG91dCI6eyJtdWx0aVZhbHVlZEF0dHJpYnV0ZSI6eyJrZXkiOiJ2YWx1ZUNhbGxvdXQiLCJpbmZlcmVuY2VUeXBlIjoiVkFMVUVfQ0FMTE9VVCIsInZhbHVlcyI6WyJGcm9tIOKCuTE1Mjk5Il0sInZhbHVlVHlwZSI6Ik1VTFRJX1ZBTFVFRCJ9fSwidGl0bGUiOnsibXVsdGlWYWx1ZWRBdHRyaWJ1dGUiOnsia2V5IjoidGl0bGUiLCJpbmZlcmVuY2VUeXBlIjoiVElUTEUiLCJ2YWx1ZXMiOlsiU2Ftc3VuZyBXYXRjaCA0Il0sInZhbHVlVHlwZSI6Ik1VTFRJX1ZBTFVFRCJ9fSwiaGVyb1BpZCI6eyJzaW5nbGVWYWx1ZUF0dHJpYnV0ZSI6eyJrZXkiOiJoZXJvUGlkIiwiaW5mZXJlbmNlVHlwZSI6IlBJRCIsInZhbHVlIjoiU01XR0Q3TU5XSEhQS0dGMyIsInZhbHVlVHlwZSI6IlNJTkdMRV9WQUxVRUQifX19fX0%3D&fm=neo%2Fmerchandising&iid=M_243c75a5-1312-4054-8d74-6f03ca0efbf8_30.3M7DSFR7VVDV&ppt=hp&ppn=homepage&ssid=cwt4v44m280000001656672341575&otracker=hp_omu_Best%2Bof%2BElectronics_1_30.dealCard.OMU_3M7DSFR7VVDV_17&otracker1=hp_omu_PINNED_neo%2Fmerchandising_Best%2Bof%2BElectronics_NA_dealCard_cc_1_NA_view-all_17&cid=3M7DSFR7VVDV\"\n",
        "webPage = requests.get(url, Dict_Headers)\n",
        "Scraping = BeautifulSoup(webPage.content, \"html.parser\")\n",
        "documentObjectModel = etree.HTML(str(Scraping))\n",
        "tags = documentObjectModel.xpath(\"//*\")"
      ],
      "metadata": {
        "id": "ZpWnhrxdpUZa"
      },
      "execution_count": 7,
      "outputs": []
    },
    {
      "cell_type": "code",
      "source": [
        "classset = set()\n",
        "for tag in tags:\n",
        "  # print(tag)\n",
        "  div = etree.tostring(tag).decode('utf-8')\n",
        "  el = lxml.html.fromstring(div)\n",
        "  cls = el.get('class')\n",
        "  # print(cls)\n",
        "  ipath = \"(//*[@class='\"+str(cls)+\"']//img)\"\n",
        "  cpath = \"(//*[@class='\"+str(cls)+\"'])\"\n",
        " \n",
        "  classlen = len(documentObjectModel.xpath(cpath))\n",
        "  imglen = len(documentObjectModel.xpath(ipath))\n",
        "  # print(cpath,classlen)\n",
        "  # print(ipath,imglen)\n",
        "\n",
        "  if ((classlen >=3) & (imglen >=3)):\n",
        "    classset.add(el.get('class'))\n",
        "print(len(classset),classset)"
      ],
      "metadata": {
        "id": "TmxLQQbArtY6",
        "colab": {
          "base_uri": "https://localhost:8080/"
        },
        "outputId": "4f9c2170-d517-40ed-821f-ff7e95fa118f"
      },
      "execution_count": 8,
      "outputs": [
        {
          "output_type": "stream",
          "name": "stdout",
          "text": [
            "14 {'_13oc-S', '_3pLy-c row', '_2kHMtA', '_1AtVbE col-12-12', '_2QcLo-', 'col col-7-12', 'gUuXy-', '_1fQZEK', '_1lRcqv', '_3LWZlK', 'col col-5-12 nlI3QM', '_13J9qT', 'CXW8mj', 'MIXNux'}\n"
          ]
        }
      ]
    },
    {
      "cell_type": "code",
      "source": [
        "parset = set()\n",
        "pardict = {}\n",
        "pdict = {}\n",
        "pcdict = {}\n",
        "partag = set()\n",
        "for cls in classset:\n",
        "  ppath = \"//*[@class='\"+cls+\"']/..\"\n",
        "  parents = documentObjectModel.xpath(ppath)\n",
        "  for par in parents:\n",
        "    parstr = etree.tostring(par).decode('utf-8')\n",
        "    pel = lxml.html.fromstring(parstr)\n",
        "    pcls = pel.get('class')\n",
        "    parimg = \"//*[@class='\"+str(pcls)+\"']//img\"\n",
        "    parcnt = \"//*[@class='\"+str(pcls)+\"']\"\n",
        "    pdict[pcls] = cls\n",
        "    if ((len(documentObjectModel.xpath(parimg)))>4):\n",
        "      parset.add(pcls)\n",
        "      partag.add(par.tag)\n",
        "      pardict[pcls] = par.tag\n",
        "      pcdict[pcls] = cls\n",
        "\n",
        "parset = (parset - (parset & classset))\n",
        "for ele in parset:\n",
        "  print(pardict[ele],pcdict[ele])"
      ],
      "metadata": {
        "id": "DObESZiwqEVT",
        "colab": {
          "base_uri": "https://localhost:8080/"
        },
        "outputId": "c535ea00-3b0a-45b7-ecda-94316d1b525c"
      },
      "execution_count": 9,
      "outputs": [
        {
          "output_type": "stream",
          "name": "stdout",
          "text": [
            "div _1AtVbE col-12-12\n"
          ]
        }
      ]
    }
  ]
}