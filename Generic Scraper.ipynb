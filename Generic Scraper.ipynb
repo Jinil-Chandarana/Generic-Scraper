{
  "cells": [
    {
      "cell_type": "markdown",
      "metadata": {
        "id": "view-in-github",
        "colab_type": "text"
      },
      "source": [
        "<a href=\"https://colab.research.google.com/github/Jinil-Chandarana/Generic-Scraper/blob/main/Generic%20Scraper.ipynb\" target=\"_parent\"><img src=\"https://colab.research.google.com/assets/colab-badge.svg\" alt=\"Open In Colab\"/></a>"
      ]
    },
    {
      "cell_type": "code",
      "execution_count": 100,
      "metadata": {
        "id": "9IrKuHKn0-jP"
      },
      "outputs": [],
      "source": [
        "import requests\n",
        "from lxml import etree\n",
        "from bs4 import BeautifulSoup\n",
        "import lxml.html"
      ]
    },
    {
      "cell_type": "code",
      "source": [
        "def img_cnt(imgtags):\n",
        "  imglist = []\n",
        "  for tag in imgtags:\n",
        "    imglist.append(list(zip(*tag.items()))[0])\n",
        "  count = set()\n",
        "  for item in imglist:\n",
        "    count.add(imglist.count(item))\n",
        "  return (max(count) - 3 )"
      ],
      "metadata": {
        "id": "8LddB--7byiD"
      },
      "execution_count": 101,
      "outputs": []
    },
    {
      "cell_type": "code",
      "execution_count": 102,
      "metadata": {
        "id": "TmxLQQbArtY6"
      },
      "outputs": [],
      "source": [
        "def classset(parameter, tags):\n",
        "  classset = set()\n",
        "  for tag in tags:\n",
        "    # print(tag)\n",
        "    div = etree.tostring(tag).decode('utf-8')\n",
        "    el = lxml.html.fromstring(div)\n",
        "    cls = el.get('class')\n",
        "    # print(cls)\n",
        "    ipath = \"(//*[@class='\"+str(cls)+\"']//img)\"\n",
        "    cpath = \"(//*[@class='\"+str(cls)+\"'])\"\n",
        "    classlen = len(documentObjectModel.xpath(cpath))\n",
        "    imglen = len(documentObjectModel.xpath(ipath))\n",
        "    if ((classlen >=parameter) & (imglen >=parameter)):\n",
        "      classset.add(el.get('class'))\n",
        "  return classset"
      ]
    },
    {
      "cell_type": "code",
      "execution_count": 103,
      "metadata": {
        "id": "DObESZiwqEVT"
      },
      "outputs": [],
      "source": [
        "def xpath(classset, parameter):\n",
        "  parset = set()\n",
        "  pardict = {}\n",
        "  pdict = {}\n",
        "  pcdict = {}\n",
        "  partag = set()\n",
        "  innerclassset = set()\n",
        "  for cls in classset:\n",
        "    ppath = \"//*[@class='\"+cls+\"']/..\"\n",
        "    parents = documentObjectModel.xpath(ppath)\n",
        "    for par in parents:\n",
        "      parstr = etree.tostring(par).decode('utf-8')\n",
        "      pel = lxml.html.fromstring(parstr)\n",
        "      pcls = pel.get('class')\n",
        "      parimg = \"//*[@class='\"+str(pcls)+\"']//img\"\n",
        "      parcnt = \"//*[@class='\"+str(pcls)+\"']\"\n",
        "      pdict[pcls] = cls\n",
        "      if ((len(documentObjectModel.xpath(parimg)))>=parameter & len(documentObjectModel.xpath(parcnt))>=parameter):\n",
        "        parset.add(pcls)\n",
        "        partag.add(par.tag)\n",
        "        pardict[pcls] = par.tag\n",
        "        pcdict[pcls] = cls\n",
        "        innerclassset.add(cls)\n",
        "  parset = ((parset & innerclassset))\n",
        "  xpath = []\n",
        "  for ele in parset:\n",
        "    # print(pcdict[ele], pardict[ele])\n",
        "    xpath.append(f'//{pardict[ele]}[@class = \"{ele}\"]')\n",
        "  return (xpath)"
      ]
    },
    {
      "cell_type": "code",
      "source": [
        "Dict_Headers = ({'User-Agent':\n",
        "      'Mozilla/5.0 (X11; Linux x86_64) AppleWebKit/537.36 \\\n",
        "      (KHTML, like Gecko) Chrome/44.0.2403.157 Safari/537.36',\\\n",
        "      'Accept-Language': 'en-US, en;q=0.5'})\n",
        "\n",
        "url = 'https://altituderunning.com/best-sellers/'\n",
        "webPage = requests.get(url, Dict_Headers)\n",
        "Scraping = BeautifulSoup(webPage.content, \"html.parser\")\n",
        "documentObjectModel = etree.HTML(str(Scraping))\n",
        "tags = documentObjectModel.xpath(\"//*\")\n",
        "imgtags = documentObjectModel.xpath(\"//img\")"
      ],
      "metadata": {
        "id": "oT0ONBB3zoa8"
      },
      "execution_count": 104,
      "outputs": []
    },
    {
      "cell_type": "code",
      "source": [
        "parameter = img_cnt(imgtags)\n",
        "classet = classset(parameter, tags)\n",
        "domain_xpath = xpath(classet, parameter)"
      ],
      "metadata": {
        "id": "TpLgUQVXwxZS"
      },
      "execution_count": 105,
      "outputs": []
    }
  ],
  "metadata": {
    "colab": {
      "collapsed_sections": [],
      "name": "test.ipynb",
      "provenance": [],
      "authorship_tag": "ABX9TyPmLPFrUS++ossRWma4mhyQ",
      "include_colab_link": true
    },
    "kernelspec": {
      "display_name": "Python 3",
      "name": "python3"
    },
    "language_info": {
      "name": "python"
    }
  },
  "nbformat": 4,
  "nbformat_minor": 0
}